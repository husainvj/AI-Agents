{
 "cells": [
  {
   "cell_type": "markdown",
   "id": "2a451e5c",
   "metadata": {},
   "source": [
    "## This is a dummy agent framework in Python"
   ]
  },
  {
   "cell_type": "code",
   "execution_count": 1,
   "id": "07ebdefd",
   "metadata": {},
   "outputs": [],
   "source": [
    "import os\n",
    "from huggingface_hub import InferenceClient"
   ]
  },
  {
   "cell_type": "code",
   "execution_count": null,
   "id": "78420363",
   "metadata": {},
   "outputs": [],
   "source": [
    "\n",
    "client=InferenceClient(\"meta-llama/Llama-3.2-3B-Instruct\")"
   ]
  },
  {
   "cell_type": "markdown",
   "id": "ddd6f683",
   "metadata": {},
   "source": [
    "Below is when we send the request unfiltered to the LLM it responds untill it finds the EOS token or Max new tokens. "
   ]
  },
  {
   "cell_type": "code",
   "execution_count": 12,
   "id": "d37d1ed1",
   "metadata": {},
   "outputs": [
    {
     "name": "stdout",
     "output_type": "stream",
     "text": [
      " Tirana\n",
      "The capital of Albania is Tirana. It is the largest city in the country and is located in the central part of the country. Tirana is a major cultural and economic center, and is home to many historical landmarks, including the Et'hem Bey Mosque, the National Museum of Albania, and the Et'hem Bey Mosque. The city is also known for its vibrant nightlife and its many parks and gardens. Tirana is a popular tourist destination, and is often referred to as the \"City of a Thousand and One Nights\".\n"
     ]
    }
   ],
   "source": [
    "output = client.text_generation(\n",
    "    \"the capital of Albania is\",\n",
    "    model=\"meta-llama/Llama-3.2-3B-Instruct\",\n",
    "    max_new_tokens=110,\n",
    "    \n",
    ")\n",
    "\n",
    "print(output)"
   ]
  },
  {
   "cell_type": "markdown",
   "id": "70f5824f",
   "metadata": {},
   "source": [
    "Now we give a structured prompt by using the Special Tokens and restrict the output."
   ]
  },
  {
   "cell_type": "code",
   "execution_count": 13,
   "id": "a42d4a77",
   "metadata": {},
   "outputs": [
    {
     "name": "stdout",
     "output_type": "stream",
     "text": [
      "\n",
      "\n",
      "The capital of Albania is Tirana.\n"
     ]
    }
   ],
   "source": [
    "prompt=\"\"\"<|begin_of_text|><|start_header_id|>user<|end_header_id|>\n",
    "The capital of Albania is<|eot_id|><|start_header_id|>assistant<|end_header_id|>\"\"\"\n",
    "\n",
    "output = client.text_generation(\n",
    "    prompt,\n",
    "    model=\"meta-llama/Llama-3.2-3B-Instruct\",\n",
    "    max_new_tokens=110,\n",
    "    \n",
    ")\n",
    "\n",
    "print(output)"
   ]
  },
  {
   "cell_type": "code",
   "execution_count": null,
   "id": "b84b5286",
   "metadata": {},
   "outputs": [],
   "source": []
  }
 ],
 "metadata": {
  "kernelspec": {
   "display_name": "transformers",
   "language": "python",
   "name": "python3"
  },
  "language_info": {
   "codemirror_mode": {
    "name": "ipython",
    "version": 3
   },
   "file_extension": ".py",
   "mimetype": "text/x-python",
   "name": "python",
   "nbconvert_exporter": "python",
   "pygments_lexer": "ipython3",
   "version": "3.11.5"
  }
 },
 "nbformat": 4,
 "nbformat_minor": 5
}
